{
  "nbformat": 4,
  "nbformat_minor": 0,
  "metadata": {
    "colab": {
      "name": "equation.ipynb",
      "provenance": [],
      "authorship_tag": "ABX9TyMpw8PeIUtr8rfBiTabBPs/",
      "include_colab_link": true
    },
    "kernelspec": {
      "name": "python3",
      "display_name": "Python 3"
    }
  },
  "cells": [
    {
      "cell_type": "markdown",
      "metadata": {
        "id": "view-in-github",
        "colab_type": "text"
      },
      "source": [
        "<a href=\"https://colab.research.google.com/github/Laci1004/Heller/blob/ThirdHw/equation.ipynb\" target=\"_parent\"><img src=\"https://colab.research.google.com/assets/colab-badge.svg\" alt=\"Open In Colab\"/></a>"
      ]
    },
    {
      "cell_type": "code",
      "metadata": {
        "id": "EK34p1-tR7xi"
      },
      "source": [
        "def egyenlet(equation, **kwargs) -> int:\r\n",
        "    result = 0\r\n",
        "    list_1 = equation.split(\"+\")          #splits the equation letters into a list\r\n",
        "    for key in list_1:                    #iterates the a, b, c through the list\r\n",
        "      result += kwargs[key]               #and then adds them up \r\n",
        "\r\n",
        "        \r\n",
        "    return result"
      ],
      "execution_count": 65,
      "outputs": []
    },
    {
      "cell_type": "code",
      "metadata": {
        "colab": {
          "base_uri": "https://localhost:8080/"
        },
        "id": "DEvr0jk7Sa_R",
        "outputId": "8675dbd4-87a8-4424-e58d-36da7de2d42e"
      },
      "source": [
        "egyenlet(\"a+a+a+b+b+c\", a=2, b=3, c=-4)"
      ],
      "execution_count": 69,
      "outputs": [
        {
          "output_type": "execute_result",
          "data": {
            "text/plain": [
              "8"
            ]
          },
          "metadata": {
            "tags": []
          },
          "execution_count": 69
        }
      ]
    }
  ]
}