{
  "nbformat": 4,
  "nbformat_minor": 0,
  "metadata": {
    "colab": {
      "name": "Pi_TL.ipynb",
      "provenance": [],
      "authorship_tag": "ABX9TyNjkBY/1HbUWaQ63GNbGZIE",
      "include_colab_link": true
    },
    "kernelspec": {
      "name": "python3",
      "display_name": "Python 3"
    }
  },
  "cells": [
    {
      "cell_type": "markdown",
      "metadata": {
        "id": "view-in-github",
        "colab_type": "text"
      },
      "source": [
        "<a href=\"https://colab.research.google.com/github/Laci1004/Heller/blob/pi_approx/Pi_TL.ipynb\" target=\"_parent\"><img src=\"https://colab.research.google.com/assets/colab-badge.svg\" alt=\"Open In Colab\"/></a>"
      ]
    },
    {
      "cell_type": "code",
      "metadata": {
        "id": "mS0FmNSXAUYK",
        "colab": {
          "base_uri": "https://localhost:8080/"
        },
        "outputId": "9afbd0ee-a7fa-4808-857b-1694bb698a0d"
      },
      "source": [
        "import random\r\n",
        "from multiprocessing import Process\r\n",
        "from multiprocessing import Pool, cpu_count\r\n",
        "from timeit import default_timer as timer\r\n",
        "\r\n",
        "\r\n",
        "def pi_approx(n: int):\r\n",
        "    circle = 0\r\n",
        "    square = 0\r\n",
        "    for i in range(n):\r\n",
        "        square += 1\r\n",
        "        x_coord = random.uniform(-1, 1)\r\n",
        "        y_coord = random.uniform(-1, 1)\r\n",
        "        if (x_coord ** 2 + y_coord ** 2) < 1:\r\n",
        "            circle += 1\r\n",
        "    return (circle / square) * 4\r\n",
        "\r\n",
        "\r\n",
        "def main():\r\n",
        "    start = timer()\r\n",
        "\r\n",
        "    print(f'starting computations on {cpu_count()} cores')\r\n",
        "\r\n",
        "    with Pool() as pool:\r\n",
        "        res = pi_approx(20000000)\r\n",
        "        print(res)\r\n",
        "\r\n",
        "    end = timer()\r\n",
        "    print(f'elapsed time: {end - start}')\r\n",
        "\r\n",
        "\r\n",
        "if __name__ == '__main__':\r\n",
        "    main()\r\n"
      ],
      "execution_count": null,
      "outputs": [
        {
          "output_type": "stream",
          "text": [
            "starting computations on 2 cores\n",
            "3.142013\n",
            "elapsed time: 16.194769165000253\n"
          ],
          "name": "stdout"
        }
      ]
    },
    {
      "cell_type": "code",
      "metadata": {
        "id": "_tia8x6mHY49",
        "outputId": "908ca91d-4dc8-49c5-d7d8-65cd6adc690b",
        "colab": {
          "base_uri": "https://localhost:8080/"
        }
      },
      "source": [
        "import random\r\n",
        "from multiprocessing import Process\r\n",
        "from multiprocessing import Pool, cpu_count\r\n",
        "from timeit import default_timer as timer\r\n",
        "\r\n",
        "\r\n",
        "def pi_approx(n: int):\r\n",
        "    circle = 0\r\n",
        "    for i in range(n):\r\n",
        "\r\n",
        "        x_coord = random.uniform(-1, 1)\r\n",
        "        y_coord = random.uniform(-1, 1)\r\n",
        "        if (x_coord ** 2 + y_coord ** 2) < 1:\r\n",
        "            circle += 1\r\n",
        "    return (circle / n) * 4\r\n",
        "\r\n",
        "\r\n",
        "def main(n):\r\n",
        "    cores = cpu_count()\r\n",
        "    start = timer()\r\n",
        "    \r\n",
        "    print(f'starting computations on {cpu_count()} cores')\r\n",
        "    lista_1 = range(1, n)\r\n",
        "\r\n",
        "\r\n",
        "    with Pool() as pool:\r\n",
        "        res = pool.map(pi_approx, lista_1)\r\n",
        "\r\n",
        "    \r\n",
        "    end = timer()\r\n",
        "    print(f'elapsed time: {end - start}')\r\n",
        "    print(res[-1])\r\n",
        "\r\n",
        "if __name__ == '__main__':\r\n",
        "    print(main(10000))\r\n"
      ],
      "execution_count": 20,
      "outputs": [
        {
          "output_type": "stream",
          "text": [
            "starting computations on 2 cores\n",
            "elapsed time: 41.494038605000014\n",
            "3.147114711471147\n",
            "None\n"
          ],
          "name": "stdout"
        }
      ]
    },
    {
      "cell_type": "code",
      "metadata": {
        "id": "70IdLf8VKV66"
      },
      "source": [
        ""
      ],
      "execution_count": 9,
      "outputs": []
    }
  ]
}