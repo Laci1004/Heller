{
  "nbformat": 4,
  "nbformat_minor": 0,
  "metadata": {
    "colab": {
      "name": "Pi_TL.ipynb",
      "provenance": [],
      "authorship_tag": "ABX9TyMwnKvjDnQcoYXxTKxKVx5O",
      "include_colab_link": true
    },
    "kernelspec": {
      "name": "python3",
      "display_name": "Python 3"
    }
  },
  "cells": [
    {
      "cell_type": "markdown",
      "metadata": {
        "id": "view-in-github",
        "colab_type": "text"
      },
      "source": [
        "<a href=\"https://colab.research.google.com/github/Laci1004/Heller/blob/pi_approx/Pi_TL.ipynb\" target=\"_parent\"><img src=\"https://colab.research.google.com/assets/colab-badge.svg\" alt=\"Open In Colab\"/></a>"
      ]
    },
    {
      "cell_type": "code",
      "metadata": {
        "id": "mS0FmNSXAUYK",
        "colab": {
          "base_uri": "https://localhost:8080/"
        },
        "outputId": "c7452489-42b5-46a3-a123-abd8c53ff5b4"
      },
      "source": [
        "import random\r\n",
        "from multiprocessing import Process\r\n",
        "from multiprocessing import Pool\r\n",
        "\r\n",
        "\r\n",
        "\r\n",
        "def pi_approx(n):\r\n",
        "  circle = 0\r\n",
        "  square =0\r\n",
        "  for i in range(n):\r\n",
        "      square += 1\r\n",
        "      x_coord = random.uniform(-1, 1)\r\n",
        "      y_coord = random.uniform(-1, 1)\r\n",
        "      if (x_coord ** 2 + y_coord ** 2) < 1:\r\n",
        "        circle += 1\r\n",
        "  return (circle/square)*4         \r\n",
        "\r\n",
        "if __name__ == '__main__':\r\n",
        "    with Pool(6) as p:\r\n",
        "        print(p.map(pi_approx, [20000]))"
      ],
      "execution_count": 48,
      "outputs": [
        {
          "output_type": "stream",
          "text": [
            "[3.1314]\n"
          ],
          "name": "stdout"
        }
      ]
    }
  ]
}