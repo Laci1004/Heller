{
  "nbformat": 4,
  "nbformat_minor": 0,
  "metadata": {
    "colab": {
      "name": "házi_3_TLM.ipynb",
      "provenance": [],
      "authorship_tag": "ABX9TyMwbSSFTUPCO9dPQvCHMbPK",
      "include_colab_link": true
    },
    "kernelspec": {
      "name": "python3",
      "display_name": "Python 3"
    }
  },
  "cells": [
    {
      "cell_type": "markdown",
      "metadata": {
        "id": "view-in-github",
        "colab_type": "text"
      },
      "source": [
        "<a href=\"https://colab.research.google.com/github/Laci1004/Heller/blob/ThirdHw/h%C3%A1zi_3_TLM.ipynb\" target=\"_parent\"><img src=\"https://colab.research.google.com/assets/colab-badge.svg\" alt=\"Open In Colab\"/></a>"
      ]
    },
    {
      "cell_type": "code",
      "metadata": {
        "id": "hT6c25RVeAjM"
      },
      "source": [
        "list_ = []\r\n",
        "for i in range(1000, 1, -1):                   #iterates 1000-1\r\n",
        "    if (i%2 != 0 and i%3 !=0) and (i%11 == 0): #adds the number to a list if the number is divisible by 11 but isn't by 2 and 3\r\n",
        "        list_.append(i)   \r\n",
        "    if len(list_) == 4:                         #stops the code after 4 numbers found\r\n",
        "        break\r\n",
        "\r\n",
        "a, b, c, d = map(lambda x: x ** 2, list_)       #raises the numbers to ^2 and adds them to a b c d respectively\r\n"
      ],
      "execution_count": 1,
      "outputs": []
    },
    {
      "cell_type": "code",
      "metadata": {
        "colab": {
          "base_uri": "https://localhost:8080/"
        },
        "id": "cwzBNmu6eHKJ",
        "outputId": "f006952e-1b35-4584-f6d1-3434d45e0ca7"
      },
      "source": [
        "print(a, b, c, d, list_)"
      ],
      "execution_count": 3,
      "outputs": [
        {
          "output_type": "stream",
          "text": [
            "958441 874225 833569 755161 [979, 935, 913, 869]\n"
          ],
          "name": "stdout"
        }
      ]
    }
  ]
}