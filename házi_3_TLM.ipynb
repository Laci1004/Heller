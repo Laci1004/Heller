{
  "nbformat": 4,
  "nbformat_minor": 0,
  "metadata": {
    "colab": {
      "name": "házi_3_TLM.ipynb",
      "provenance": [],
      "authorship_tag": "ABX9TyMyLinfuXeI3h0eU5lrJuA4",
      "include_colab_link": true
    },
    "kernelspec": {
      "name": "python3",
      "display_name": "Python 3"
    }
  },
  "cells": [
    {
      "cell_type": "markdown",
      "metadata": {
        "id": "view-in-github",
        "colab_type": "text"
      },
      "source": [
        "<a href=\"https://colab.research.google.com/github/Laci1004/Heller/blob/ThirdHw/h%C3%A1zi_3_TLM.ipynb\" target=\"_parent\"><img src=\"https://colab.research.google.com/assets/colab-badge.svg\" alt=\"Open In Colab\"/></a>"
      ]
    },
    {
      "cell_type": "code",
      "metadata": {
        "id": "hT6c25RVeAjM"
      },
      "source": [
        "list_ = []\r\n",
        "for i in range(1000, 1, -1):                   #iterates 1000-1\r\n",
        "    if (i%2 != 0 and i%3 !=0) and (i%11 == 0): #adds the number to a list if the number is divisible by 11 but isn't by 2 and 3\r\n",
        "        list_.append(i)   \r\n",
        "    if len(list_) == 4:                         #stops the code after 4 numbers found\r\n",
        "        break\r\n",
        "\r\n",
        "a, b, c, d = map(lambda x: x ** 2, list_)       #raises the numbers to ^2 and adds them to a b c d respectively\r\n"
      ],
      "execution_count": null,
      "outputs": []
    },
    {
      "cell_type": "code",
      "metadata": {
        "id": "XbdzXB4YUHfD",
        "outputId": "ebf69eda-8f34-4c10-be0a-b922f18d4b10",
        "colab": {
          "base_uri": "https://localhost:8080/"
        }
      },
      "source": [
        "a, b, c, d = [i**2 for i in range(1000, 1, -1) if (i%2 != 0 and i%3 !=0) and (i%11 == 0)][:4]\r\n",
        "print(a, b, c, d)"
      ],
      "execution_count": 8,
      "outputs": [
        {
          "output_type": "stream",
          "text": [
            "958441 874225 833569 755161\n"
          ],
          "name": "stdout"
        }
      ]
    },
    {
      "cell_type": "code",
      "metadata": {
        "colab": {
          "base_uri": "https://localhost:8080/",
          "height": 130
        },
        "id": "cwzBNmu6eHKJ",
        "outputId": "1d3b462f-dc8c-444a-d152-32a54a3c562b"
      },
      "source": [
        "print(a, b, c, d, #list_)"
      ],
      "execution_count": 3,
      "outputs": [
        {
          "output_type": "error",
          "ename": "SyntaxError",
          "evalue": "ignored",
          "traceback": [
            "\u001b[0;36m  File \u001b[0;32m\"<ipython-input-3-8f21de7df7c1>\"\u001b[0;36m, line \u001b[0;32m1\u001b[0m\n\u001b[0;31m    print(a, b, c, d, #list_)\u001b[0m\n\u001b[0m                             ^\u001b[0m\n\u001b[0;31mSyntaxError\u001b[0m\u001b[0;31m:\u001b[0m unexpected EOF while parsing\n"
          ]
        }
      ]
    }
  ]
}