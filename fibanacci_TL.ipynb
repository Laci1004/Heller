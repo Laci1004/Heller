{
  "nbformat": 4,
  "nbformat_minor": 0,
  "metadata": {
    "colab": {
      "name": "fibanacci_TL.ipynb",
      "provenance": [],
      "authorship_tag": "ABX9TyOG65iIRh4j77tBzJ6hr/vr",
      "include_colab_link": true
    },
    "kernelspec": {
      "name": "python3",
      "display_name": "Python 3"
    }
  },
  "cells": [
    {
      "cell_type": "markdown",
      "metadata": {
        "id": "view-in-github",
        "colab_type": "text"
      },
      "source": [
        "<a href=\"https://colab.research.google.com/github/Laci1004/Heller/blob/fibonacci/fibanacci_TL.ipynb\" target=\"_parent\"><img src=\"https://colab.research.google.com/assets/colab-badge.svg\" alt=\"Open In Colab\"/></a>"
      ]
    },
    {
      "cell_type": "code",
      "metadata": {
        "id": "5at3VICB6uwc"
      },
      "source": [
        "cache = [1, 1]"
      ],
      "execution_count": 3,
      "outputs": []
    },
    {
      "cell_type": "code",
      "metadata": {
        "id": "as-YPwbw7Dsd"
      },
      "source": [
        "def fibonacci(n: int, cache: list = [1, 1]) -> int:\r\n",
        "\r\n",
        "    if len(cache) <= n:                         #if the length of the given list is less than the number we want -->\r\n",
        "        for i in range(n - len(cache)):         #it extends the list til the given integer\r\n",
        "            cache.append(cache[-1]+cache[-2])   #by iterating through the list and adding the numbers to it\r\n",
        "\r\n",
        "    return cache[n-1]                           #it returns the last but one index to match the fibonacci numbers\r\n"
      ],
      "execution_count": 4,
      "outputs": []
    },
    {
      "cell_type": "code",
      "metadata": {
        "colab": {
          "base_uri": "https://localhost:8080/"
        },
        "id": "W-Fquxyd7l0V",
        "outputId": "9bb6260b-6656-4d1b-ec07-38e457f56e2f"
      },
      "source": [
        "fibonacci(14, cache)"
      ],
      "execution_count": 5,
      "outputs": [
        {
          "output_type": "execute_result",
          "data": {
            "text/plain": [
              "377"
            ]
          },
          "metadata": {
            "tags": []
          },
          "execution_count": 5
        }
      ]
    }
  ]
}