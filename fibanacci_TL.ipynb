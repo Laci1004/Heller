{
  "nbformat": 4,
  "nbformat_minor": 0,
  "metadata": {
    "colab": {
      "name": "fibanacci_TL.ipynb",
      "provenance": [],
      "authorship_tag": "ABX9TyMR5Hmh8aPDt62jt7iW+J9e",
      "include_colab_link": true
    },
    "kernelspec": {
      "name": "python3",
      "display_name": "Python 3"
    }
  },
  "cells": [
    {
      "cell_type": "markdown",
      "metadata": {
        "id": "view-in-github",
        "colab_type": "text"
      },
      "source": [
        "<a href=\"https://colab.research.google.com/github/Laci1004/Heller/blob/fibonacci/fibanacci_TL.ipynb\" target=\"_parent\"><img src=\"https://colab.research.google.com/assets/colab-badge.svg\" alt=\"Open In Colab\"/></a>"
      ]
    },
    {
      "cell_type": "code",
      "metadata": {
        "id": "5at3VICB6uwc"
      },
      "source": [
        "cache = [0, 1, 1]\r\n",
        "\r\n",
        "for i in range(3, 50):\r\n",
        "    cache.append(cache[i-1]+cache[i-2])\r\n"
      ],
      "execution_count": 8,
      "outputs": []
    },
    {
      "cell_type": "code",
      "metadata": {
        "id": "as-YPwbw7Dsd"
      },
      "source": [
        "def fibonacci(n, cache):\r\n",
        "  return cache[n]"
      ],
      "execution_count": 6,
      "outputs": []
    },
    {
      "cell_type": "code",
      "metadata": {
        "colab": {
          "base_uri": "https://localhost:8080/"
        },
        "id": "W-Fquxyd7l0V",
        "outputId": "f43a45fb-db3f-4280-fa95-c3b7ca327c1c"
      },
      "source": [
        "fibonacci(14, cache)"
      ],
      "execution_count": 9,
      "outputs": [
        {
          "output_type": "execute_result",
          "data": {
            "text/plain": [
              "377"
            ]
          },
          "metadata": {
            "tags": []
          },
          "execution_count": 9
        }
      ]
    }
  ]
}