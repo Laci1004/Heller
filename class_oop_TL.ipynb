{
  "nbformat": 4,
  "nbformat_minor": 5,
  "metadata": {
    "kernelspec": {
      "display_name": "Python 3",
      "language": "python",
      "name": "python3"
    },
    "language_info": {
      "codemirror_mode": {
        "name": "ipython",
        "version": 3
      },
      "file_extension": ".py",
      "mimetype": "text/x-python",
      "name": "python",
      "nbconvert_exporter": "python",
      "pygments_lexer": "ipython3",
      "version": "3.9.2"
    },
    "colab": {
      "name": "class_oop_TL.ipynb",
      "provenance": [],
      "include_colab_link": true
    }
  },
  "cells": [
    {
      "cell_type": "markdown",
      "metadata": {
        "id": "view-in-github",
        "colab_type": "text"
      },
      "source": [
        "<a href=\"https://colab.research.google.com/github/Laci1004/Heller/blob/master/class_oop_TL.ipynb\" target=\"_parent\"><img src=\"https://colab.research.google.com/assets/colab-badge.svg\" alt=\"Open In Colab\"/></a>"
      ]
    },
    {
      "cell_type": "code",
      "metadata": {
        "id": "wanted-bankruptcy"
      },
      "source": [
        "import numpy as np\n",
        "\n",
        "class Grade():     #ÉVFOLYAM\n",
        "    def __init__(self, classes = None):\n",
        "      self.classes = classes or []\n",
        "\n",
        "    def average(self):\n",
        "      sum = 0\n",
        "      len = 0\n",
        "      for classes in self.classes:\n",
        "        classx, classy = classes.classaverage_global()\n",
        "        sum += classx\n",
        "        len += classy\n",
        "      return sum/len\n",
        "\n",
        "\n",
        "    \n",
        "      \n",
        "\n",
        "class Class_():      #OSZTÁLY\n",
        "    def __init__(self, grade, students = None):\n",
        "      self.students = students or []\n",
        "      self.grade = grade\n",
        "      self.grade.classes.append(self)\n",
        "\n",
        "    def average(self):\n",
        "      x = 0\n",
        "      for student in self.students:\n",
        "        x += student.average\n",
        "      return x/len(self.students)\n",
        "\n",
        "    def classaverage_global(self):   #semmit nem csinál\n",
        "      x = 0\n",
        "      y = len(self.students)\n",
        "      for student in self.students:\n",
        "        x += student.average\n",
        "      return x, y\n",
        "\n",
        "\n",
        "class Subject:      #TANTÁRGY\n",
        "    #Az iskolában tanítanak Tantárgyakat, amelyeknek van nevük, leírásuk, hozzá vannak rendelve évfolyamok, akiknek ezt oktatni kell.\n",
        "    def __init__(self, name, description, grade):\n",
        "        self.name = name\n",
        "        self.description = description\n",
        "        self.grade = grade\n",
        "\n",
        "    def subjaverage(self):        #visszaadja egyes tantárgyak átlagát\n",
        "      x=0\n",
        "      for grade in self.grade:\n",
        "        x += grade.average()\n",
        "      return x/len(self.grade)\n",
        "\n",
        "\n",
        "\n",
        "\n",
        "\n",
        "class People:\n",
        "    def __init__(self, name, year_of_birth, sex):\n",
        "        self.name = name\n",
        "        self.year_of_birth = year_of_birth\n",
        "        self.sex = sex\n",
        "            \n",
        "    def age(self):\n",
        "        return f\"{self.name} is {2021 - self.year_of_birth} years old\"\n",
        "\n",
        "\n",
        "\n",
        "\n",
        "\n",
        "class Student(People):\n",
        "    def __init__(self, name, year_of_birth, sex, grade, average: float, parent_phone):\n",
        "      super().__init__(name, year_of_birth, sex)\n",
        "      self.grade = grade\n",
        "      self.average = average\n",
        "      self.parent_phone = parent_phone\n",
        "\n",
        "\n",
        "\n",
        "    \n",
        "        \n",
        "\n",
        "\n",
        "\n",
        "\n",
        "class Teacher(People):   #Az iskolában tanítanak Tanárok, akikhez bizonyos tárgyak vannak hozzárendelve. A tanároknak van heti óraszámuk, órabérül, ami alapján a havi fizetésük kiszámolható.\n",
        "    def __init__(self, name, year_of_birth, sex, subject, weekly_classes, hourly_salary):\n",
        "      super().__init__(name, year_of_birth, sex)\n",
        "      self.subject = subject\n",
        "      self.weekly_classes = weekly_classes\n",
        "      self.hourly_salary = hourly_salary\n",
        "\n",
        "    def monthly_salary(self):\n",
        "      return self.weekly_classes * self.hourly_salary * 4\n",
        "\n",
        "    def salary_per_month(self):\n",
        "      return f\"{self.name}'s' monthly salary is {self.weekly_classes * self.hourly_salary * 4}.\"\n",
        "\n",
        "    def teacher_average(self):\n",
        "      x = []\n",
        "      for subject in self.subject:\n",
        "        x.append(subject.subjaverage())\n",
        "      return x\n",
        "\n",
        "\n",
        "\n",
        "class ClassMaster(Teacher):  #A tanárok között vannak Osztályfőnökök, akiknek van osztályuk Az osztályfőnököknél lekérdezhető az is, hogy az osztálya tanulóinak milyen az átlagos átlaga.\n",
        "    def __init__(self, name, year_of_birth, sex, subject, weekly_classes, hourly_salary, class_):\n",
        "      super().__init__(name, year_of_birth, sex, subject, weekly_classes, hourly_salary)\n",
        "      self.class_ = class_\n",
        "\n",
        "    def monthly_salary(self):\n",
        "      return self.weekly_classes * self.hourly_salary * 4\n",
        "\n",
        "    def CM_average(self):\n",
        "      return self.class_.average()\n",
        "\n",
        "\n",
        "\n",
        "class Boss(Teacher):     #Igazgató\n",
        "    bonus = 100000\n",
        "    def __init__(self, name, year_of_birth, sex, subject, weekly_classes, hourly_salary, grade):\n",
        "      super().__init__(name, year_of_birth, sex, subject, weekly_classes, hourly_salary)\n",
        "      self.grade = grade\n",
        "      self.bonus = 100000\n",
        "\n",
        "    def monthly_salary(self):\n",
        "      return f\"{self.name}'s' monthly salary is {self.weekly_classes * self.hourly_salary * 4 + self.bonus}.\"\n",
        "\n",
        "    def boss_salary(self):\n",
        "      return self.weekly_classes * self.hourly_salary * 4 + self.bonus\n",
        "\n",
        "\n",
        "\n",
        "class School:\n",
        "    def __init__(self, students, teachers, classmaster, boss, name: str, adress: str):\n",
        "        self.students = students\n",
        "        self.teachers = teachers\n",
        "        self.classmaster = classmaster\n",
        "        self.boss = boss\n",
        "        self.name = name\n",
        "        self.adress = adress\n",
        "\n",
        "    def wage(self):\n",
        "      sum = 0\n",
        "      for teacher in self.teachers:\n",
        "        sum += teacher.monthly_salary()\n",
        "      for classmaster in self.classmaster:\n",
        "        sum += classmaster.monthly_salary()\n",
        "      for boss in self.boss:\n",
        "        sum += boss.boss_salary()\n",
        "      return f\"{self.name} pays {sum} for  the teachers each month\"\n",
        "\n",
        "    def worst_avg(self):\n",
        "      avg = min([self.students.average for student in  self.students])\n",
        "      return avg\n"
      ],
      "id": "wanted-bankruptcy",
      "execution_count": 1,
      "outputs": []
    },
    {
      "cell_type": "code",
      "metadata": {
        "id": "DHEiNhq6cla5"
      },
      "source": [
        ""
      ],
      "id": "DHEiNhq6cla5",
      "execution_count": 1,
      "outputs": []
    },
    {
      "cell_type": "code",
      "metadata": {
        "id": "_mpMaHneAtja"
      },
      "source": [
        "#Class_ (osztály) és grade (évfolyam) előkészítése\r\n",
        "grade_11 = Grade()\r\n",
        "grade_12 = Grade()\r\n",
        "Class_11a = Class_(grade_11)\r\n",
        "Class_11b = Class_(grade_11)\r\n",
        "Class_12a = Class_(grade_12)\r\n",
        "Class_12b = Class_(grade_12)\r\n",
        "\r\n",
        "grade_11 = Grade([Class_11a, Class_11b])\r\n",
        "grade_12 = Grade([Class_12a, Class_12b])\r\n",
        "\r\n",
        "\r\n",
        "###Diákok\r\n",
        "Joker = Student(\"Joker\", 1999, \"male\", Class_11a, 4.5, \"06207582834\")\r\n",
        "Pali = Student(\"Pali\", 2010, \"male\", Class_11a, 3, \"06207582834\")\r\n",
        "Jacs = Student(\"Jacs\", 1980, \"male\", Class_11b, 5, \"06207582834\")\r\n",
        "Lakatos = Student(\"Lakatos\", 1999, \"male\", Class_11b, 2, \"12312343\")\r\n",
        "Jani = Student(\"Jani\", 1999, \"male\", Class_11b, 4, \"12345423\")\r\n",
        "Pisti = Student(\"Pisti\", 1998, \"male\", Class_11b, 3, \"234523456\")\r\n",
        "Balázs = Student(\"Balázs\", 1997, \"male\", Class_11b, 3.7, \"6453453245\")\r\n",
        "Pipis = Student(\"Pipis\", 1999, \"male\", Class_11b, 4.3, \"234532565\")\r\n",
        "Kocó = Student(\"Kocó\", 2000, \"male\", Class_11b, 4.2, \"234563524\")\r\n",
        "Cucu = Student(\"Cucu\", 2001, \"male\", Class_11b, 3.9, \"23452345\")\r\n",
        "\r\n",
        "\r\n",
        "#Osztályok diákokkal\r\n",
        "Class_11a = Class_(grade_11, [Joker, Pali, Jacs, Lakatos])\r\n",
        "Class_11b = Class_(grade_11, [Jani, Pisti, Balázs, Pipis])\r\n",
        "Class_12a = Class_(grade_12, [Kocó, Cucu])\r\n",
        "Class_12b = Class_(grade_12, [])\r\n",
        "\r\n",
        "#Tantárgyak\r\n",
        "math = Subject(\"Math\", \"Calculating lol\", [grade_11])\r\n",
        "literature = Subject(\"Literature\", \"Literaturing\", [grade_11, grade_12])\r\n",
        "english = Subject(\"English\", \"British\", [grade_11])\r\n",
        "\r\n",
        "\r\n",
        "#Tanárok\r\n",
        "T1 = Teacher(\"Kissné\", 1962, \"female\", [math], 23, 1250)\r\n",
        "T2 = Teacher(\"Madaras\", 1981, \"male\", [literature], 34, 1300)\r\n",
        "T3 = Teacher(\"Miklós\", 1972, \"Male\", [math], 23, 1200)\r\n",
        "\r\n",
        "#Osztályfőnökök\r\n",
        "\r\n",
        "ClassMaster1 = ClassMaster(\"Ákos\", 1970, \"male\", [english], 25, 1150, Class_11a)\r\n",
        "ClassMaster2 = ClassMaster(\"Mákos\", 1980, \"male\", [english, math], 18, 1100, Class_11b)\r\n",
        "ClassMaster3 = ClassMaster(\"Brigi\", 1980, \"female\", [english, literature], 30, 1200, Class_12a)\r\n",
        "\r\n",
        "#Igazgató\r\n",
        "\r\n",
        "Boss = Boss(\"Péter\", 1972, \"male\", [english], 20, 1000, [grade_11])"
      ],
      "id": "_mpMaHneAtja",
      "execution_count": 2,
      "outputs": []
    },
    {
      "cell_type": "code",
      "metadata": {
        "id": "HMsLBg-tBLgg"
      },
      "source": [
        ""
      ],
      "id": "HMsLBg-tBLgg",
      "execution_count": 3,
      "outputs": []
    },
    {
      "cell_type": "code",
      "metadata": {
        "id": "dVKkYFT9_LVw"
      },
      "source": [
        ""
      ],
      "id": "dVKkYFT9_LVw",
      "execution_count": 3,
      "outputs": []
    },
    {
      "cell_type": "code",
      "metadata": {
        "colab": {
          "base_uri": "https://localhost:8080/"
        },
        "id": "Q3VFPbvX_d7B",
        "outputId": "46871da4-3e34-44d3-89fb-f99dcd784842"
      },
      "source": [
        "print(Class_11a.average())\r\n",
        "print(Class_11b.average())\r\n",
        "\r\n",
        "print(grade_11.average())\r\n",
        "print(grade_12.average())"
      ],
      "id": "Q3VFPbvX_d7B",
      "execution_count": 4,
      "outputs": [
        {
          "output_type": "stream",
          "text": [
            "3.625\n",
            "3.75\n",
            "3.6875\n",
            "4.05\n"
          ],
          "name": "stdout"
        }
      ]
    },
    {
      "cell_type": "code",
      "metadata": {
        "id": "kX9gYF1FAD3g",
        "colab": {
          "base_uri": "https://localhost:8080/"
        },
        "outputId": "1d3f5ab0-9c95-4f5f-d176-2c0b0980cfac"
      },
      "source": [
        "print(T1.teacher_average())\r\n",
        "print(T2.teacher_average())\r\n",
        "print(T3.teacher_average())"
      ],
      "id": "kX9gYF1FAD3g",
      "execution_count": 5,
      "outputs": [
        {
          "output_type": "stream",
          "text": [
            "[3.6875]\n",
            "[3.86875]\n",
            "[3.6875]\n"
          ],
          "name": "stdout"
        }
      ]
    },
    {
      "cell_type": "code",
      "metadata": {
        "colab": {
          "base_uri": "https://localhost:8080/"
        },
        "id": "axAbiuVXqJ5M",
        "outputId": "d6eea264-d9f1-4959-dcef-eaf4aad00120"
      },
      "source": [
        "print(ClassMaster1.CM_average())\r\n",
        "print(ClassMaster2.CM_average())\r\n",
        "print(ClassMaster3.CM_average())"
      ],
      "id": "axAbiuVXqJ5M",
      "execution_count": 6,
      "outputs": [
        {
          "output_type": "stream",
          "text": [
            "3.625\n",
            "3.75\n",
            "4.05\n"
          ],
          "name": "stdout"
        }
      ]
    },
    {
      "cell_type": "code",
      "metadata": {
        "id": "T-r6vk-7zOqJ"
      },
      "source": [
        "School1 = School([Joker, Pali, Jacs, Lakatos, Jani, Pisti, Balázs, Pipis, Kocó, Cucu],\r\n",
        "                 [T1, T2, T3],\r\n",
        "                 [ClassMaster1, ClassMaster2, ClassMaster3],\r\n",
        "                 [Boss],\r\n",
        "                 \"Berze Nagy János\",\r\n",
        "                 \"Kossuth 12\")"
      ],
      "id": "T-r6vk-7zOqJ",
      "execution_count": 7,
      "outputs": []
    },
    {
      "cell_type": "code",
      "metadata": {
        "colab": {
          "base_uri": "https://localhost:8080/",
          "height": 35
        },
        "id": "ls6R6EFWsdQs",
        "outputId": "ea49a220-3cc3-46cb-d863-bddb75cde66e"
      },
      "source": [
        "School1.wage()"
      ],
      "id": "ls6R6EFWsdQs",
      "execution_count": 12,
      "outputs": [
        {
          "output_type": "execute_result",
          "data": {
            "application/vnd.google.colaboratory.intrinsic+json": {
              "type": "string"
            },
            "text/plain": [
              "'Berze Nagy János pays 920400 for  the teachers each month'"
            ]
          },
          "metadata": {
            "tags": []
          },
          "execution_count": 12
        }
      ]
    },
    {
      "cell_type": "code",
      "metadata": {
        "id": "cf0cqJ4-3sbl"
      },
      "source": [
        ""
      ],
      "id": "cf0cqJ4-3sbl",
      "execution_count": null,
      "outputs": []
    }
  ]
}